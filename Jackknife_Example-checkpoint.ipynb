{
 "cells": [
  {
   "cell_type": "markdown",
   "id": "cbd8f0cd",
   "metadata": {},
   "source": [
    "# 1. Create jackknife resamples"
   ]
  },
  {
   "cell_type": "code",
   "execution_count": 1,
   "id": "9d479466",
   "metadata": {},
   "outputs": [],
   "source": [
    "import numpy as np\n",
    "from astropy.stats import jackknife_resampling\n",
    "from astropy.stats import jackknife_stats"
   ]
  },
  {
   "cell_type": "code",
   "execution_count": 2,
   "id": "8353ab8c",
   "metadata": {},
   "outputs": [],
   "source": [
    "data = np.array([1,2,3,4,5,6,7,8,9,0])"
   ]
  },
  {
   "cell_type": "code",
   "execution_count": 3,
   "id": "e838f0f4",
   "metadata": {},
   "outputs": [
    {
     "data": {
      "text/plain": [
       "array([1, 2, 3, 4, 5, 6, 7, 8, 9, 0])"
      ]
     },
     "execution_count": 3,
     "metadata": {},
     "output_type": "execute_result"
    }
   ],
   "source": [
    "data"
   ]
  },
  {
   "cell_type": "code",
   "execution_count": 4,
   "id": "10978fb2",
   "metadata": {},
   "outputs": [],
   "source": [
    "resamples = jackknife_resampling(data)"
   ]
  },
  {
   "cell_type": "code",
   "execution_count": 5,
   "id": "7928c878",
   "metadata": {},
   "outputs": [
    {
     "data": {
      "text/plain": [
       "array([[2., 3., 4., 5., 6., 7., 8., 9., 0.],\n",
       "       [1., 3., 4., 5., 6., 7., 8., 9., 0.],\n",
       "       [1., 2., 4., 5., 6., 7., 8., 9., 0.],\n",
       "       [1., 2., 3., 5., 6., 7., 8., 9., 0.],\n",
       "       [1., 2., 3., 4., 6., 7., 8., 9., 0.],\n",
       "       [1., 2., 3., 4., 5., 7., 8., 9., 0.],\n",
       "       [1., 2., 3., 4., 5., 6., 8., 9., 0.],\n",
       "       [1., 2., 3., 4., 5., 6., 7., 9., 0.],\n",
       "       [1., 2., 3., 4., 5., 6., 7., 8., 0.],\n",
       "       [1., 2., 3., 4., 5., 6., 7., 8., 9.]])"
      ]
     },
     "execution_count": 5,
     "metadata": {},
     "output_type": "execute_result"
    }
   ],
   "source": [
    "resamples"
   ]
  },
  {
   "cell_type": "code",
   "execution_count": null,
   "id": "b59c12ce",
   "metadata": {},
   "outputs": [],
   "source": []
  },
  {
   "cell_type": "markdown",
   "id": "50ed141d",
   "metadata": {},
   "source": [
    "# 2. Obtain Jackknife estimate for the mean, its bias, its standard error, and its 95% confidence interval"
   ]
  },
  {
   "cell_type": "code",
   "execution_count": 21,
   "id": "57fce5a2",
   "metadata": {},
   "outputs": [
    {
     "data": {
      "text/plain": [
       "4.5"
      ]
     },
     "execution_count": 21,
     "metadata": {},
     "output_type": "execute_result"
    }
   ],
   "source": [
    "#mean of the resamples data\n",
    "data_mean = np.mean(data)\n",
    "data_mean"
   ]
  },
  {
   "cell_type": "code",
   "execution_count": 22,
   "id": "d501ab53",
   "metadata": {},
   "outputs": [
    {
     "data": {
      "text/plain": [
       "2.8722813232690143"
      ]
     },
     "execution_count": 22,
     "metadata": {},
     "output_type": "execute_result"
    }
   ],
   "source": [
    "#standard devaition of the resamples data\n",
    "data_sd = np.sqrt(np.var(data))\n",
    "data_sd"
   ]
  },
  {
   "cell_type": "code",
   "execution_count": 23,
   "id": "09dbaa93",
   "metadata": {},
   "outputs": [],
   "source": [
    "#estimated SE\n",
    "est_se = data_sd/np.sqrt(10)"
   ]
  },
  {
   "cell_type": "code",
   "execution_count": 25,
   "id": "8f194730",
   "metadata": {
    "scrolled": true
   },
   "outputs": [
    {
     "data": {
      "text/plain": [
       "0.9082951062292475"
      ]
     },
     "execution_count": 25,
     "metadata": {},
     "output_type": "execute_result"
    }
   ],
   "source": [
    "est_se"
   ]
  },
  {
   "cell_type": "code",
   "execution_count": 26,
   "id": "7420437f",
   "metadata": {},
   "outputs": [],
   "source": [
    "est_ci_lower = 4.5 - 1.96*est_se"
   ]
  },
  {
   "cell_type": "code",
   "execution_count": 27,
   "id": "e1dacc2c",
   "metadata": {},
   "outputs": [],
   "source": [
    "est_ci_upper = 4.5 + 1.96*est_se"
   ]
  },
  {
   "cell_type": "code",
   "execution_count": 32,
   "id": "b7440114",
   "metadata": {},
   "outputs": [],
   "source": [
    "est_ci = np.array([est_ci_lower, est_ci_upper])"
   ]
  },
  {
   "cell_type": "code",
   "execution_count": 33,
   "id": "dda13284",
   "metadata": {},
   "outputs": [
    {
     "data": {
      "text/plain": [
       "array([2.71974159, 6.28025841])"
      ]
     },
     "execution_count": 33,
     "metadata": {},
     "output_type": "execute_result"
    }
   ],
   "source": [
    "est_ci"
   ]
  },
  {
   "cell_type": "code",
   "execution_count": null,
   "id": "376342b5",
   "metadata": {},
   "outputs": [],
   "source": []
  },
  {
   "cell_type": "code",
   "execution_count": null,
   "id": "34bb7436",
   "metadata": {},
   "outputs": [],
   "source": [
    "test_statistic = np.mean\n",
    "test_statistic"
   ]
  },
  {
   "cell_type": "code",
   "execution_count": 8,
   "id": "3df056d3",
   "metadata": {},
   "outputs": [
    {
     "data": {
      "text/plain": [
       "4.5"
      ]
     },
     "execution_count": 8,
     "metadata": {},
     "output_type": "execute_result"
    }
   ],
   "source": [
    "estimate, bias, stderr, conf_interval = jackknife_stats(\n",
    "    data, test_statistic, 0.95)\n"
   ]
  },
  {
   "cell_type": "code",
   "execution_count": 10,
   "id": "7e66908a",
   "metadata": {},
   "outputs": [
    {
     "data": {
      "text/plain": [
       "4.5"
      ]
     },
     "execution_count": 10,
     "metadata": {},
     "output_type": "execute_result"
    }
   ],
   "source": [
    "estimate"
   ]
  },
  {
   "cell_type": "code",
   "execution_count": 11,
   "id": "4a0f28f5",
   "metadata": {},
   "outputs": [
    {
     "data": {
      "text/plain": [
       "0.0"
      ]
     },
     "execution_count": 11,
     "metadata": {},
     "output_type": "execute_result"
    }
   ],
   "source": [
    "bias"
   ]
  },
  {
   "cell_type": "code",
   "execution_count": 12,
   "id": "6089e082",
   "metadata": {},
   "outputs": [
    {
     "data": {
      "text/plain": [
       "0.9574271077563383"
      ]
     },
     "execution_count": 12,
     "metadata": {},
     "output_type": "execute_result"
    }
   ],
   "source": [
    "stderr"
   ]
  },
  {
   "cell_type": "code",
   "execution_count": 13,
   "id": "14cfdfbf",
   "metadata": {},
   "outputs": [
    {
     "data": {
      "text/plain": [
       "array([2.62347735, 6.37652265])"
      ]
     },
     "execution_count": 13,
     "metadata": {},
     "output_type": "execute_result"
    }
   ],
   "source": [
    "conf_interval"
   ]
  }
 ],
 "metadata": {
  "kernelspec": {
   "display_name": "Python 3 (ipykernel)",
   "language": "python",
   "name": "python3"
  },
  "language_info": {
   "codemirror_mode": {
    "name": "ipython",
    "version": 3
   },
   "file_extension": ".py",
   "mimetype": "text/x-python",
   "name": "python",
   "nbconvert_exporter": "python",
   "pygments_lexer": "ipython3",
   "version": "3.9.7"
  }
 },
 "nbformat": 4,
 "nbformat_minor": 5
}
